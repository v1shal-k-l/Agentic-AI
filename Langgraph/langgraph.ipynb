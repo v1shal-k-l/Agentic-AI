{
 "cells": [
  {
   "cell_type": "code",
   "execution_count": 1,
   "metadata": {},
   "outputs": [],
   "source": [
    "import os\n",
    "from dotenv import load_dotenv, find_dotenv\n",
    "_ = load_dotenv(find_dotenv())\n",
    "openai_api_key = os.environ[\"OPENAI_API_KEY\"]\n",
    "TAVILY_API_KEY = os.environ[\"TAVILY_API_KEY\"]"
   ]
  },
  {
   "cell_type": "code",
   "execution_count": 2,
   "metadata": {},
   "outputs": [],
   "source": [
    "os.environ[\"TAVILY_API_KEY\"] = TAVILY_API_KEY"
   ]
  },
  {
   "cell_type": "code",
   "execution_count": 3,
   "metadata": {},
   "outputs": [],
   "source": [
    "from langchain_openai import ChatOpenAI\n",
    "llm = ChatOpenAI(model=\"gpt-3.5-turbo-0125\")"
   ]
  },
  {
   "cell_type": "code",
   "execution_count": 8,
   "metadata": {},
   "outputs": [
    {
     "data": {
      "text/plain": [
       "[{'url': 'https://apnews.com/live/los-angeles-wildfires-updates-1-13-25',\n",
       "  'content': 'Los Angeles wildfires: Updates from Jan. 13, 2025 | AP News 7 of 10\\xa0|\\xa0Los Angeles Fire Department’s Mike Alvarez works on extinguishing hot spots in the aftermath of the Palisades Fire as a Malibu resident, top right, watches the sunset from atop his beachfront home along the Pacific Coast Highway in Malibu, Calif., Sunday, Jan. 12, 2025. 7 of 10\\xa0|\\xa0Los Angeles Fire Department’s Mike Alvarez works on extinguishing hot spots in the aftermath of the Palisades Fire as a Malibu resident, top right, watches the sunset from atop his beachfront home along the Pacific Coast Highway in Malibu, Calif., Sunday, Jan. 12, 2025. “We’re absolutely better prepared for this coming,” Los Angeles County Fire Chief Anthony Marrone said when asked what will be different this time with similarly strong winds forecast as last week which fueled the massive fires.'},\n",
       " {'url': 'https://recovery.lacounty.gov/2025/01/17/wildfire-update-january-17-2025/',\n",
       "  'content': 'Wildfire Update – January 17, 2025 – LA County Recovers LA COUNTY LA County Resources LA COUNTY NEWS Wildfire Update – January 17, 2025 https://recovery.lacounty.gov/wp-content/uploads/2025/01/JIC-Banner-1024x576.jpg 1024 576 LA County Recovers LA County Recovers //recovery.lacounty.gov/wp-content/uploads/2021/07/la-county-recovers-style-logo.png January 17, 2025 January 17, 2025 Here are the latest updates from LA County’s Coordinated Joint Information Center as of 10:00AM on January 17, 2025. For the latest fire response and recovery photos from LA County, please visit our Flickr page. Previous media releases are posted here:\\xa0News Releases – LA County Recovers Contact:Los Angeles County Emergency Operations CenterCJIC@ceo.lacounty.gov Media Update: Eaton and Palisades Fires 1/18/25 Read Next ###### LA County Recovers: Public Defender Media Update: Eaton and Palisades Fires 1/18/25 LA COUNTY LA County Resources LA COUNTY NEWS'},\n",
       " {'url': 'https://www.cnn.com/weather/live-news/fires-los-angeles-california-01-16-25/index.html',\n",
       "  'content': 'Live updates: Los Angeles wildfires, Palisades and Eaton fires, Auto fire in Ventura | CNN CNN10 About CNN • A window of dangerous fire weather conditions has closed, but firefighters battling the Los Angeles blazes are still contending with “extreme hazards and the potential for fire growth,” a Cal Fire official said. • For ways to help Los Angeles County residents, visit CNN Impact Your World. With conditions improving across Southern California Thursday through the weekend, the National Weather Service in Los Angeles is looking ahead to the potential of another Santa Ana Wind Event that may begin early next week. CNN10 About CNN'}]"
      ]
     },
     "execution_count": 8,
     "metadata": {},
     "output_type": "execute_result"
    }
   ],
   "source": [
    "from langchain_community.tools.tavily_search import TavilySearchResults\n",
    "search = TavilySearchResults(max_results=3)\n",
    "search.invoke(\"tell me about 2025 LA wildfire updates\")"
   ]
  },
  {
   "cell_type": "code",
   "execution_count": 9,
   "metadata": {},
   "outputs": [],
   "source": [
    "tools = [search]"
   ]
  },
  {
   "cell_type": "code",
   "execution_count": 10,
   "metadata": {},
   "outputs": [
    {
     "data": {
      "text/plain": [
       "[TavilySearchResults(max_results=3)]"
      ]
     },
     "execution_count": 10,
     "metadata": {},
     "output_type": "execute_result"
    }
   ],
   "source": [
    "tools"
   ]
  },
  {
   "cell_type": "code",
   "execution_count": 21,
   "metadata": {},
   "outputs": [],
   "source": [
    "from langgraph.prebuilt import create_react_agent\n",
    "\n",
    "agent_executor = create_react_agent(llm, tools)"
   ]
  },
  {
   "cell_type": "code",
   "execution_count": 22,
   "metadata": {},
   "outputs": [
    {
     "data": {
      "text/plain": [
       "{'messages': [HumanMessage(content='tell me about 2025 LA wildfire updates', id='61bac94b-f076-4dda-9af4-e44f21b17b1a'),\n",
       "  AIMessage(content='', additional_kwargs={'tool_calls': [{'id': 'call_GrUHojcZo20B2pvJhC2usbPN', 'function': {'arguments': '{\"query\":\"2025 LA wildfire updates\"}', 'name': 'tavily_search_results_json'}, 'type': 'function'}]}, response_metadata={'token_usage': {'completion_tokens': 23, 'prompt_tokens': 90, 'total_tokens': 113, 'completion_tokens_details': {'accepted_prediction_tokens': 0, 'audio_tokens': 0, 'reasoning_tokens': 0, 'rejected_prediction_tokens': 0}, 'prompt_tokens_details': {'audio_tokens': 0, 'cached_tokens': 0}}, 'model_name': 'gpt-3.5-turbo-0125', 'system_fingerprint': None, 'finish_reason': 'tool_calls', 'logprobs': None}, id='run-0a5af93e-68df-482e-aa29-2ca43625d825-0', tool_calls=[{'name': 'tavily_search_results_json', 'args': {'query': '2025 LA wildfire updates'}, 'id': 'call_GrUHojcZo20B2pvJhC2usbPN', 'type': 'tool_call'}], usage_metadata={'input_tokens': 90, 'output_tokens': 23, 'total_tokens': 113}),\n",
       "  ToolMessage(content='[{\"url\": \"https://apnews.com/live/los-angeles-wildfires-updates-1-13-25\", \"content\": \"Los Angeles wildfires: Updates from Jan. 13, 2025 | AP News 7 of 10\\xa0|\\xa0Los Angeles Fire Department’s Mike Alvarez works on extinguishing hot spots in the aftermath of the Palisades Fire as a Malibu resident, top right, watches the sunset from atop his beachfront home along the Pacific Coast Highway in Malibu, Calif., Sunday, Jan. 12, 2025. 7 of 10\\xa0|\\xa0Los Angeles Fire Department’s Mike Alvarez works on extinguishing hot spots in the aftermath of the Palisades Fire as a Malibu resident, top right, watches the sunset from atop his beachfront home along the Pacific Coast Highway in Malibu, Calif., Sunday, Jan. 12, 2025. “We’re absolutely better prepared for this coming,” Los Angeles County Fire Chief Anthony Marrone said when asked what will be different this time with similarly strong winds forecast as last week which fueled the massive fires.\"}, {\"url\": \"https://recovery.lacounty.gov/2025/01/17/wildfire-update-january-17-2025/\", \"content\": \"Wildfire Update – January 17, 2025 – LA County Recovers LA COUNTY LA County Resources LA COUNTY NEWS Wildfire Update – January 17, 2025 https://recovery.lacounty.gov/wp-content/uploads/2025/01/JIC-Banner-1024x576.jpg 1024 576 LA County Recovers LA County Recovers //recovery.lacounty.gov/wp-content/uploads/2021/07/la-county-recovers-style-logo.png January 17, 2025 January 17, 2025 Here are the latest updates from LA County’s Coordinated Joint Information Center as of 10:00AM on January 17, 2025. For the latest fire response and recovery photos from LA County, please visit our Flickr page. Previous media releases are posted here:\\xa0News Releases – LA County Recovers Contact:Los Angeles County Emergency Operations CenterCJIC@ceo.lacounty.gov Media Update: Eaton and Palisades Fires 1/18/25 Read Next ###### LA County Recovers: Public Defender Media Update: Eaton and Palisades Fires 1/18/25 LA COUNTY LA County Resources LA COUNTY NEWS\"}, {\"url\": \"https://recovery.lacounty.gov/2025/01/19/media-update-eaton-and-palisades-fires-1-19-25/\", \"content\": \"Media Update: Eaton and Palisades Fires 1/19/25 – LA County Recovers Media Update: Eaton and Palisades Fires 1/19/25 Media Update: Eaton and Palisades Fires 1/19/25 Media Update: Eaton and Palisades Fires 1/19/25 Media Update: Eaton and Palisades Fires 1/19/25 https://recovery.lacounty.gov/wp-content/uploads/2025/01/JIC-Banner-1024x576.jpg 1024 576 LA County Recovers LA County Recovers //recovery.lacounty.gov/wp-content/uploads/2021/07/la-county-recovers-style-logo.png January 19, 2025 January 19, 2025 Here are the latest updates from LA County’s Coordinated Joint Information Center as of 10 a.m. on Jan. 19, 2025. LA County Coordinated Joint Information Center Update – 1/20/25 Media Update: Eaton and Palisades Fires 1/20/25 Read Previous ###### LA County Coordinated Joint Information Center Update – 1/18/25 LA County Coordinated Joint Information Center Update – 1/20/25 Media Update: Eaton and Palisades Fires 1/20/25 YouTube  [Skip to content](https://recovery.lacounty.gov/2025/01/19/media-update-eaton-and-palisades-fires-1-19-25/#content)\"}]', name='tavily_search_results_json', id='00536a92-7772-4bd3-8e78-b22c290f60c1', tool_call_id='call_GrUHojcZo20B2pvJhC2usbPN'),\n",
       "  AIMessage(content=\"In 2025, there have been updates on wildfires in Los Angeles. Here are some sources for more information:\\n\\n1. [AP News - Los Angeles wildfires updates from Jan. 13, 2025](https://apnews.com/live/los-angeles-wildfires-updates-1-13-25): The Los Angeles Fire Department has been working on extinguishing hot spots in the aftermath of the Palisades Fire. Los Angeles County Fire Chief Anthony Marrone mentioned that they are better prepared for the wildfires with similarly strong winds forecasted.\\n\\n2. [LA County Recovers - Wildfire Update on January 17, 2025](https://recovery.lacounty.gov/2025/01/17/wildfire-update-january-17-2025/): The latest updates from LA County's Coordinated Joint Information Center as of 10:00 AM on January 17, 2025, are available on this page.\\n\\n3. [LA County Recovers - Media Update on Eaton and Palisades Fires on January 19, 2025](https://recovery.lacounty.gov/2025/01/19/media-update-eaton-and-palisades-fires-1-19-25/): Information on the latest updates from LA County's Coordinated Joint Information Center as of 10 AM on January 19, 2025, is provided here.\", response_metadata={'token_usage': {'completion_tokens': 289, 'prompt_tokens': 984, 'total_tokens': 1273, 'completion_tokens_details': {'accepted_prediction_tokens': 0, 'audio_tokens': 0, 'reasoning_tokens': 0, 'rejected_prediction_tokens': 0}, 'prompt_tokens_details': {'audio_tokens': 0, 'cached_tokens': 0}}, 'model_name': 'gpt-3.5-turbo-0125', 'system_fingerprint': None, 'finish_reason': 'stop', 'logprobs': None}, id='run-3198c602-6441-4cc8-b105-7e6b4cd6a182-0', usage_metadata={'input_tokens': 984, 'output_tokens': 289, 'total_tokens': 1273})]}"
      ]
     },
     "execution_count": 22,
     "metadata": {},
     "output_type": "execute_result"
    }
   ],
   "source": [
    "from langchain_core.messages import HumanMessage\n",
    "response = agent_executor.invoke({\"messages\": [HumanMessage(content=\"tell me about 2025 LA wildfire updates\")]})\n",
    "response"
   ]
  },
  {
   "cell_type": "code",
   "execution_count": 23,
   "metadata": {},
   "outputs": [
    {
     "data": {
      "text/plain": [
       "[HumanMessage(content='tell me about 2025 LA wildfire updates', id='61bac94b-f076-4dda-9af4-e44f21b17b1a'),\n",
       " AIMessage(content='', additional_kwargs={'tool_calls': [{'id': 'call_GrUHojcZo20B2pvJhC2usbPN', 'function': {'arguments': '{\"query\":\"2025 LA wildfire updates\"}', 'name': 'tavily_search_results_json'}, 'type': 'function'}]}, response_metadata={'token_usage': {'completion_tokens': 23, 'prompt_tokens': 90, 'total_tokens': 113, 'completion_tokens_details': {'accepted_prediction_tokens': 0, 'audio_tokens': 0, 'reasoning_tokens': 0, 'rejected_prediction_tokens': 0}, 'prompt_tokens_details': {'audio_tokens': 0, 'cached_tokens': 0}}, 'model_name': 'gpt-3.5-turbo-0125', 'system_fingerprint': None, 'finish_reason': 'tool_calls', 'logprobs': None}, id='run-0a5af93e-68df-482e-aa29-2ca43625d825-0', tool_calls=[{'name': 'tavily_search_results_json', 'args': {'query': '2025 LA wildfire updates'}, 'id': 'call_GrUHojcZo20B2pvJhC2usbPN', 'type': 'tool_call'}], usage_metadata={'input_tokens': 90, 'output_tokens': 23, 'total_tokens': 113}),\n",
       " ToolMessage(content='[{\"url\": \"https://apnews.com/live/los-angeles-wildfires-updates-1-13-25\", \"content\": \"Los Angeles wildfires: Updates from Jan. 13, 2025 | AP News 7 of 10\\xa0|\\xa0Los Angeles Fire Department’s Mike Alvarez works on extinguishing hot spots in the aftermath of the Palisades Fire as a Malibu resident, top right, watches the sunset from atop his beachfront home along the Pacific Coast Highway in Malibu, Calif., Sunday, Jan. 12, 2025. 7 of 10\\xa0|\\xa0Los Angeles Fire Department’s Mike Alvarez works on extinguishing hot spots in the aftermath of the Palisades Fire as a Malibu resident, top right, watches the sunset from atop his beachfront home along the Pacific Coast Highway in Malibu, Calif., Sunday, Jan. 12, 2025. “We’re absolutely better prepared for this coming,” Los Angeles County Fire Chief Anthony Marrone said when asked what will be different this time with similarly strong winds forecast as last week which fueled the massive fires.\"}, {\"url\": \"https://recovery.lacounty.gov/2025/01/17/wildfire-update-january-17-2025/\", \"content\": \"Wildfire Update – January 17, 2025 – LA County Recovers LA COUNTY LA County Resources LA COUNTY NEWS Wildfire Update – January 17, 2025 https://recovery.lacounty.gov/wp-content/uploads/2025/01/JIC-Banner-1024x576.jpg 1024 576 LA County Recovers LA County Recovers //recovery.lacounty.gov/wp-content/uploads/2021/07/la-county-recovers-style-logo.png January 17, 2025 January 17, 2025 Here are the latest updates from LA County’s Coordinated Joint Information Center as of 10:00AM on January 17, 2025. For the latest fire response and recovery photos from LA County, please visit our Flickr page. Previous media releases are posted here:\\xa0News Releases – LA County Recovers Contact:Los Angeles County Emergency Operations CenterCJIC@ceo.lacounty.gov Media Update: Eaton and Palisades Fires 1/18/25 Read Next ###### LA County Recovers: Public Defender Media Update: Eaton and Palisades Fires 1/18/25 LA COUNTY LA County Resources LA COUNTY NEWS\"}, {\"url\": \"https://recovery.lacounty.gov/2025/01/19/media-update-eaton-and-palisades-fires-1-19-25/\", \"content\": \"Media Update: Eaton and Palisades Fires 1/19/25 – LA County Recovers Media Update: Eaton and Palisades Fires 1/19/25 Media Update: Eaton and Palisades Fires 1/19/25 Media Update: Eaton and Palisades Fires 1/19/25 Media Update: Eaton and Palisades Fires 1/19/25 https://recovery.lacounty.gov/wp-content/uploads/2025/01/JIC-Banner-1024x576.jpg 1024 576 LA County Recovers LA County Recovers //recovery.lacounty.gov/wp-content/uploads/2021/07/la-county-recovers-style-logo.png January 19, 2025 January 19, 2025 Here are the latest updates from LA County’s Coordinated Joint Information Center as of 10 a.m. on Jan. 19, 2025. LA County Coordinated Joint Information Center Update – 1/20/25 Media Update: Eaton and Palisades Fires 1/20/25 Read Previous ###### LA County Coordinated Joint Information Center Update – 1/18/25 LA County Coordinated Joint Information Center Update – 1/20/25 Media Update: Eaton and Palisades Fires 1/20/25 YouTube  [Skip to content](https://recovery.lacounty.gov/2025/01/19/media-update-eaton-and-palisades-fires-1-19-25/#content)\"}]', name='tavily_search_results_json', id='00536a92-7772-4bd3-8e78-b22c290f60c1', tool_call_id='call_GrUHojcZo20B2pvJhC2usbPN'),\n",
       " AIMessage(content=\"In 2025, there have been updates on wildfires in Los Angeles. Here are some sources for more information:\\n\\n1. [AP News - Los Angeles wildfires updates from Jan. 13, 2025](https://apnews.com/live/los-angeles-wildfires-updates-1-13-25): The Los Angeles Fire Department has been working on extinguishing hot spots in the aftermath of the Palisades Fire. Los Angeles County Fire Chief Anthony Marrone mentioned that they are better prepared for the wildfires with similarly strong winds forecasted.\\n\\n2. [LA County Recovers - Wildfire Update on January 17, 2025](https://recovery.lacounty.gov/2025/01/17/wildfire-update-january-17-2025/): The latest updates from LA County's Coordinated Joint Information Center as of 10:00 AM on January 17, 2025, are available on this page.\\n\\n3. [LA County Recovers - Media Update on Eaton and Palisades Fires on January 19, 2025](https://recovery.lacounty.gov/2025/01/19/media-update-eaton-and-palisades-fires-1-19-25/): Information on the latest updates from LA County's Coordinated Joint Information Center as of 10 AM on January 19, 2025, is provided here.\", response_metadata={'token_usage': {'completion_tokens': 289, 'prompt_tokens': 984, 'total_tokens': 1273, 'completion_tokens_details': {'accepted_prediction_tokens': 0, 'audio_tokens': 0, 'reasoning_tokens': 0, 'rejected_prediction_tokens': 0}, 'prompt_tokens_details': {'audio_tokens': 0, 'cached_tokens': 0}}, 'model_name': 'gpt-3.5-turbo-0125', 'system_fingerprint': None, 'finish_reason': 'stop', 'logprobs': None}, id='run-3198c602-6441-4cc8-b105-7e6b4cd6a182-0', usage_metadata={'input_tokens': 984, 'output_tokens': 289, 'total_tokens': 1273})]"
      ]
     },
     "execution_count": 23,
     "metadata": {},
     "output_type": "execute_result"
    }
   ],
   "source": [
    "response[\"messages\"]"
   ]
  },
  {
   "cell_type": "markdown",
   "metadata": {},
   "source": [
    "## Adding memory\n",
    "* Adding memory in LangGraph is very similar to what we did with LangChain."
   ]
  },
  {
   "cell_type": "code",
   "execution_count": 15,
   "metadata": {},
   "outputs": [],
   "source": [
    "from langgraph.checkpoint.memory import MemorySaver\n",
    "memory = MemorySaver()"
   ]
  },
  {
   "cell_type": "code",
   "execution_count": 16,
   "metadata": {},
   "outputs": [],
   "source": [
    "agent_executor = create_react_agent(llm, tools, checkpointer=memory)"
   ]
  },
  {
   "cell_type": "code",
   "execution_count": 17,
   "metadata": {},
   "outputs": [],
   "source": [
    "config = {\"configurable\": {\"thread_id\": \"001\"}}"
   ]
  },
  {
   "cell_type": "code",
   "execution_count": 24,
   "metadata": {},
   "outputs": [
    {
     "name": "stdout",
     "output_type": "stream",
     "text": [
      "{'agent': {'messages': [AIMessage(content='', additional_kwargs={'tool_calls': [{'id': 'call_UEgG16mvYiSPrP2eCTKcIkYZ', 'function': {'arguments': '{\"query\":\"2024 soccer Eurocup winner\"}', 'name': 'tavily_search_results_json'}, 'type': 'function'}]}, response_metadata={'token_usage': {'completion_tokens': 24, 'prompt_tokens': 91, 'total_tokens': 115, 'completion_tokens_details': {'accepted_prediction_tokens': 0, 'audio_tokens': 0, 'reasoning_tokens': 0, 'rejected_prediction_tokens': 0}, 'prompt_tokens_details': {'audio_tokens': 0, 'cached_tokens': 0}}, 'model_name': 'gpt-3.5-turbo-0125', 'system_fingerprint': None, 'finish_reason': 'tool_calls', 'logprobs': None}, id='run-c91979be-03ad-4840-98df-fba9130d4d43-0', tool_calls=[{'name': 'tavily_search_results_json', 'args': {'query': '2024 soccer Eurocup winner'}, 'id': 'call_UEgG16mvYiSPrP2eCTKcIkYZ', 'type': 'tool_call'}], usage_metadata={'input_tokens': 91, 'output_tokens': 24, 'total_tokens': 115})]}}\n",
      "----\n",
      "{'tools': {'messages': [ToolMessage(content='[{\"url\": \"https://www.sportingnews.com/us/soccer/news/who-won-euro-2024-spain-england-oyarzabal/19ab0b3bf663194bc5193e50\", \"content\": \"Spain won the 2024 European Championship, becoming the first team to lift the trophy four times, beating England 2-1 thanks to a late winner from Mikel Oyarzabal.\"}, {\"url\": \"https://en.wikipedia.org/wiki/UEFA_Euro_2024_Final\", \"content\": \"The UEFA Euro 2024 final was a football match that determined the winners of UEFA Euro 2024.The match was the seventeenth final of the European Championship, a quadrennial tournament contested by the men\\'s national teams of the member associations of UEFA to decide the champions of Europe. The match was held at the Olympiastadion in Berlin, Germany, on 14 July 2024, and was contested by Spain\"}, {\"url\": \"https://www.cnn.com/2024/07/14/sport/spain-england-euro-2024-final-spt-intl/index.html\", \"content\": \"Spain won a record-breaking fourth European Championship, defeating England 2-1 following a drama-filled second half in the Euro 2024 final on Sunday in Berlin.\"}]', name='tavily_search_results_json', tool_call_id='call_UEgG16mvYiSPrP2eCTKcIkYZ')]}}\n",
      "----\n",
      "{'agent': {'messages': [AIMessage(content=\"Spain won the 2024 European Championship, defeating England 2-1 in the final. This victory marked Spain's fourth European Championship win, with Mikel Oyarzabal scoring the late winner.\", response_metadata={'token_usage': {'completion_tokens': 43, 'prompt_tokens': 407, 'total_tokens': 450, 'completion_tokens_details': {'accepted_prediction_tokens': 0, 'audio_tokens': 0, 'reasoning_tokens': 0, 'rejected_prediction_tokens': 0}, 'prompt_tokens_details': {'audio_tokens': 0, 'cached_tokens': 0}}, 'model_name': 'gpt-3.5-turbo-0125', 'system_fingerprint': None, 'finish_reason': 'stop', 'logprobs': None}, id='run-db354391-ff6e-42a9-94be-98c53152f3c1-0', usage_metadata={'input_tokens': 407, 'output_tokens': 43, 'total_tokens': 450})]}}\n",
      "----\n"
     ]
    }
   ],
   "source": [
    "for chunk in agent_executor.stream(\n",
    "    {\"messages\": [HumanMessage(content=\"Who won the 2024 soccer Eurocup?\")]}, config\n",
    "):\n",
    "    print(chunk)\n",
    "    print(\"----\")"
   ]
  },
  {
   "cell_type": "code",
   "execution_count": 26,
   "metadata": {},
   "outputs": [
    {
     "name": "stdout",
     "output_type": "stream",
     "text": [
      "{'agent': {'messages': [AIMessage(content='', additional_kwargs={'tool_calls': [{'id': 'call_m0tbNUOYWsEkJ32B9ZsATvCw', 'function': {'arguments': '{\"query\":\"top stars of the winning team\"}', 'name': 'tavily_search_results_json'}, 'type': 'function'}]}, response_metadata={'token_usage': {'completion_tokens': 24, 'prompt_tokens': 91, 'total_tokens': 115, 'completion_tokens_details': {'accepted_prediction_tokens': 0, 'audio_tokens': 0, 'reasoning_tokens': 0, 'rejected_prediction_tokens': 0}, 'prompt_tokens_details': {'audio_tokens': 0, 'cached_tokens': 0}}, 'model_name': 'gpt-3.5-turbo-0125', 'system_fingerprint': None, 'finish_reason': 'tool_calls', 'logprobs': None}, id='run-1d2de8a4-0276-41e9-9be3-b5166f83ffc4-0', tool_calls=[{'name': 'tavily_search_results_json', 'args': {'query': 'top stars of the winning team'}, 'id': 'call_m0tbNUOYWsEkJ32B9ZsATvCw', 'type': 'tool_call'}], usage_metadata={'input_tokens': 91, 'output_tokens': 24, 'total_tokens': 115})]}}\n",
      "----\n",
      "{'tools': {'messages': [ToolMessage(content='[{\"url\": \"https://www.foxnews.com/sports/ohio-state-stars-praise-god-after-winning-college-football-national-title\", \"content\": \"Ohio State Buckeyes stars Will Howard and Jack Sawyer gave praise to God on Monday night following their college football national championship victory over the Notre Dame Fighting Irish. Howard\"}, {\"url\": \"https://hoopshype.com/lists/the-most-star-studded-teams-ever-in-nba-history/\", \"content\": \"We\\'ve looked at the Top 40 teams in NBA history based on All-Star and All-NBA selections and found that o nly 14 of them went on to win the Larry O\\'Brien trophy; out of the Top 10 star-studded\"}, {\"url\": \"https://www.elevenwarriors.com/ohio-state-football/2025/01/153193/three-stars-of-the-game-will-howard-quinshon-judkins-and-jeremiah-smith-earn-top-honors-for-their-performances-in-the-national-championship-game\", \"content\": \"Second Star: Quinshon Judkins Judkins was a complete back and then some against Notre Dame. The talented ball carrier ran for 100 yards on 11 carries and rushed for two touchdowns, and also caught\"}]', name='tavily_search_results_json', tool_call_id='call_m0tbNUOYWsEkJ32B9ZsATvCw')]}}\n",
      "----\n",
      "{'agent': {'messages': [AIMessage(content=\"The top stars of the winning team were Will Howard, Jack Sawyer, Quinshon Judkins, and Jeremiah Smith. They played a significant role in their team's victory.\", response_metadata={'token_usage': {'completion_tokens': 38, 'prompt_tokens': 392, 'total_tokens': 430, 'completion_tokens_details': {'accepted_prediction_tokens': 0, 'audio_tokens': 0, 'reasoning_tokens': 0, 'rejected_prediction_tokens': 0}, 'prompt_tokens_details': {'audio_tokens': 0, 'cached_tokens': 0}}, 'model_name': 'gpt-3.5-turbo-0125', 'system_fingerprint': None, 'finish_reason': 'stop', 'logprobs': None}, id='run-7673a516-6b0b-427a-9d6a-812f3b86bd68-0', usage_metadata={'input_tokens': 392, 'output_tokens': 38, 'total_tokens': 430})]}}\n",
      "----\n"
     ]
    }
   ],
   "source": [
    "for chunk in agent_executor.stream(\n",
    "    {\"messages\": [HumanMessage(content=\"Who were the top stars of that winner team?\")]}, config\n",
    "):\n",
    "    print(chunk)\n",
    "    print(\"----\")"
   ]
  },
  {
   "cell_type": "code",
   "execution_count": 28,
   "metadata": {},
   "outputs": [
    {
     "name": "stdout",
     "output_type": "stream",
     "text": [
      "{'agent': {'messages': [AIMessage(content='You mentioned the soccer team \"Manchester United\" in our previous conversation. Would you like me to provide more information about them?', response_metadata={'token_usage': {'completion_tokens': 27, 'prompt_tokens': 89, 'total_tokens': 116, 'completion_tokens_details': {'accepted_prediction_tokens': 0, 'audio_tokens': 0, 'reasoning_tokens': 0, 'rejected_prediction_tokens': 0}, 'prompt_tokens_details': {'audio_tokens': 0, 'cached_tokens': 0}}, 'model_name': 'gpt-3.5-turbo-0125', 'system_fingerprint': None, 'finish_reason': 'stop', 'logprobs': None}, id='run-b9fdab43-09da-4e58-9b4e-caff79772e3d-0', usage_metadata={'input_tokens': 89, 'output_tokens': 27, 'total_tokens': 116})]}}\n",
      "----\n"
     ]
    }
   ],
   "source": [
    "config = {\"configurable\": {\"thread_id\": \"001\"}}\n",
    "for chunk in agent_executor.stream(\n",
    "    {\"messages\": [HumanMessage(content=\"About what soccer team we were talking?\")]}, config\n",
    "):\n",
    "    print(chunk)\n",
    "    print(\"----\")"
   ]
  },
  {
   "cell_type": "code",
   "execution_count": null,
   "metadata": {},
   "outputs": [],
   "source": []
  }
 ],
 "metadata": {
  "kernelspec": {
   "display_name": "agentdemo",
   "language": "python",
   "name": "python3"
  },
  "language_info": {
   "codemirror_mode": {
    "name": "ipython",
    "version": 3
   },
   "file_extension": ".py",
   "mimetype": "text/x-python",
   "name": "python",
   "nbconvert_exporter": "python",
   "pygments_lexer": "ipython3",
   "version": "3.11.11"
  }
 },
 "nbformat": 4,
 "nbformat_minor": 2
}
