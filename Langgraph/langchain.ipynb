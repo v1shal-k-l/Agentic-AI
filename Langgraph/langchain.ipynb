{
 "cells": [
  {
   "cell_type": "code",
   "execution_count": 1,
   "metadata": {},
   "outputs": [],
   "source": [
    "import os\n",
    "from dotenv import load_dotenv, find_dotenv\n",
    "_ = load_dotenv(find_dotenv())\n",
    "openai_api_key = os.environ[\"OPENAI_API_KEY\"]\n",
    "TAVILY_API_KEY = os.environ[\"TAVILY_API_KEY\"]"
   ]
  },
  {
   "cell_type": "code",
   "execution_count": 2,
   "metadata": {},
   "outputs": [],
   "source": [
    "from langchain_openai import ChatOpenAI\n",
    "chatModel = ChatOpenAI(model=\"gpt-3.5-turbo-0125\")"
   ]
  },
  {
   "cell_type": "code",
   "execution_count": 3,
   "metadata": {},
   "outputs": [],
   "source": [
    "messages = [\n",
    "    (\"system\", \"You are an expert about python coding\"),\n",
    "    (\"human\", \"Hey i need a python code to generate an cat image\")\n",
    "]"
   ]
  },
  {
   "cell_type": "code",
   "execution_count": 4,
   "metadata": {},
   "outputs": [],
   "source": [
    "response = chatModel.invoke(messages)"
   ]
  },
  {
   "cell_type": "code",
   "execution_count": 5,
   "metadata": {},
   "outputs": [
    {
     "data": {
      "text/plain": [
       "AIMessage(content=\"Generating a cat image programmatically can be quite complex, but you can use libraries like PIL (Pillow) in Python to create a simple image of a cat. Here's a basic example using Pillow to create a simple cat image:\\n\\n```python\\nfrom PIL import Image, ImageDraw\\n\\n# Create a new image with a white background\\nimg = Image.new('RGB', (200, 200), color = 'white')\\ndraw = ImageDraw.Draw(img)\\n\\n# Draw a simple cat face shape\\ndraw.ellipse((50, 50, 150, 150), fill='gray')  # head\\ndraw.ellipse((70, 80, 90, 100), fill='black')  # left eye\\ndraw.ellipse((110, 80, 130, 100), fill='black')  # right eye\\ndraw.arc((70, 100, 130, 140), start=0, end=180, fill='black')  # mouth\\n\\n# Save the image\\nimg.save('cat_image.jpg')\\n\\n# Display the image\\nimg.show()\\n```\\n\\nThis code will generate a simple cat face image with a gray head, black eyes, and a mouth. You can customize and enhance this code to create more detailed and realistic cat images if needed.\", response_metadata={'token_usage': {'completion_tokens': 264, 'prompt_tokens': 29, 'total_tokens': 293, 'completion_tokens_details': {'accepted_prediction_tokens': 0, 'audio_tokens': 0, 'reasoning_tokens': 0, 'rejected_prediction_tokens': 0}, 'prompt_tokens_details': {'audio_tokens': 0, 'cached_tokens': 0}}, 'model_name': 'gpt-3.5-turbo-0125', 'system_fingerprint': None, 'finish_reason': 'stop', 'logprobs': None}, id='run-940f3cf3-b049-4879-97d2-c09b9d0f6354-0', usage_metadata={'input_tokens': 29, 'output_tokens': 264, 'total_tokens': 293})"
      ]
     },
     "execution_count": 5,
     "metadata": {},
     "output_type": "execute_result"
    }
   ],
   "source": [
    "response"
   ]
  },
  {
   "cell_type": "code",
   "execution_count": 7,
   "metadata": {},
   "outputs": [
    {
     "name": "stdout",
     "output_type": "stream",
     "text": [
      "Generating a cat image programmatically can be quite complex, but you can use libraries like PIL (Pillow) in Python to create a simple image of a cat. Here's a basic example using Pillow to create a simple cat image:\n",
      "\n",
      "```python\n",
      "from PIL import Image, ImageDraw\n",
      "\n",
      "# Create a new image with a white background\n",
      "img = Image.new('RGB', (200, 200), color = 'white')\n",
      "draw = ImageDraw.Draw(img)\n",
      "\n",
      "# Draw a simple cat face shape\n",
      "draw.ellipse((50, 50, 150, 150), fill='gray')  # head\n",
      "draw.ellipse((70, 80, 90, 100), fill='black')  # left eye\n",
      "draw.ellipse((110, 80, 130, 100), fill='black')  # right eye\n",
      "draw.arc((70, 100, 130, 140), start=0, end=180, fill='black')  # mouth\n",
      "\n",
      "# Save the image\n",
      "img.save('cat_image.jpg')\n",
      "\n",
      "# Display the image\n",
      "img.show()\n",
      "```\n",
      "\n",
      "This code will generate a simple cat face image with a gray head, black eyes, and a mouth. You can customize and enhance this code to create more detailed and realistic cat images if needed.\n"
     ]
    }
   ],
   "source": [
    "print(response.content)"
   ]
  },
  {
   "cell_type": "code",
   "execution_count": 8,
   "metadata": {},
   "outputs": [
    {
     "data": {
      "text/plain": [
       "{'token_usage': {'completion_tokens': 264,\n",
       "  'prompt_tokens': 29,\n",
       "  'total_tokens': 293,\n",
       "  'completion_tokens_details': {'accepted_prediction_tokens': 0,\n",
       "   'audio_tokens': 0,\n",
       "   'reasoning_tokens': 0,\n",
       "   'rejected_prediction_tokens': 0},\n",
       "  'prompt_tokens_details': {'audio_tokens': 0, 'cached_tokens': 0}},\n",
       " 'model_name': 'gpt-3.5-turbo-0125',\n",
       " 'system_fingerprint': None,\n",
       " 'finish_reason': 'stop',\n",
       " 'logprobs': None}"
      ]
     },
     "execution_count": 8,
     "metadata": {},
     "output_type": "execute_result"
    }
   ],
   "source": [
    "response.response_metadata"
   ]
  },
  {
   "cell_type": "markdown",
   "metadata": {},
   "source": [
    "## Test with Groc models"
   ]
  },
  {
   "cell_type": "code",
   "execution_count": 9,
   "metadata": {},
   "outputs": [],
   "source": [
    "from langchain_groq import ChatGroq"
   ]
  },
  {
   "cell_type": "code",
   "execution_count": 10,
   "metadata": {},
   "outputs": [],
   "source": [
    "model = ChatGroq(model=\"llama3-70b-8192\")"
   ]
  },
  {
   "cell_type": "code",
   "execution_count": 11,
   "metadata": {},
   "outputs": [],
   "source": [
    "messages = [\n",
    "    (\"system\", \"You are an expert about python coding\"),\n",
    "    (\"human\", \"Hey i need a python code to generate an cat image\")\n",
    "]"
   ]
  },
  {
   "cell_type": "code",
   "execution_count": 12,
   "metadata": {},
   "outputs": [],
   "source": [
    "response = model.invoke(messages)"
   ]
  },
  {
   "cell_type": "code",
   "execution_count": 14,
   "metadata": {},
   "outputs": [
    {
     "name": "stdout",
     "output_type": "stream",
     "text": [
      "Generating an image of a cat using Python is a bit complex and requires some knowledge of image processing and computer vision. However, I can provide you with a simple example of how to generate a simple cat image using Python's Pillow library.\n",
      "\n",
      "This example will generate a simple cat face using Pillow's drawing capabilities:\n",
      "```python\n",
      "from PIL import Image, ImageDraw\n",
      "\n",
      "# Create a new image with a white background\n",
      "img = Image.new('RGB', (200, 200), (255, 255, 255))\n",
      "\n",
      "# Create a drawing context\n",
      "draw = ImageDraw.Draw(img)\n",
      "\n",
      "# Draw the cat's face\n",
      "draw.ellipse((50, 50, 150, 150), fill=(255, 255, 255), outline=(0, 0, 0))  # face\n",
      "draw.ellipse((70, 70, 130, 130), fill=(255, 255, 255), outline=(0, 0, 0))  # nose\n",
      "draw.ellipse((90, 90, 110, 110), fill=(0, 0, 0), outline=(0, 0, 0))  # eye\n",
      "draw.ellipse((120, 90, 140, 110), fill=(0, 0, 0), outline=(0, 0, 0))  # eye\n",
      "draw.line((100, 120, 120, 140), fill=(0, 0, 0), width=2)  # mouth\n",
      "\n",
      "# Save the image to a file\n",
      "img.save('cat.png')\n",
      "```\n",
      "This code will generate a simple cat face image and save it to a file named `cat.png`. You can adjust the drawing parameters to create different variations of the cat face.\n",
      "\n",
      "Keep in mind that generating a realistic cat image using Python is a much more complex task that requires advanced computer vision and machine learning techniques, such as neural networks and generative models.\n",
      "\n",
      "If you're interested in generating more complex images, I can provide you with some resources and examples of how to use Python libraries like TensorFlow, Keras, and PyTorch to generate images using generative models. Let me know!\n"
     ]
    }
   ],
   "source": [
    "print(response.content)"
   ]
  },
  {
   "cell_type": "code",
   "execution_count": 15,
   "metadata": {},
   "outputs": [],
   "source": [
    "messages = [\n",
    "    (\"system\", \"You are an expert\"),\n",
    "    (\"human\", \"tell me about 2025 LA wildfire updates\")\n",
    "]"
   ]
  },
  {
   "cell_type": "code",
   "execution_count": 16,
   "metadata": {},
   "outputs": [],
   "source": [
    "response = model.invoke(messages)"
   ]
  },
  {
   "cell_type": "code",
   "execution_count": 17,
   "metadata": {},
   "outputs": [
    {
     "data": {
      "text/plain": [
       "AIMessage(content=\"I'm happy to provide you with information on the 2025 LA wildfires, but since 2025 has not yet occurred, there are no updates to provide. However, I can give you an overview of the wildfire situation in California and the Los Angeles area in recent years, as well as some general information on what to expect in the future.\\n\\n**Recent Wildfire Activity in California and LA:**\\n\\nCalifornia has experienced some of the most devastating wildfires in its history in recent years. The 2018 Camp Fire was the deadliest and most destructive wildfire in California's history, killing at least 85 people and burning nearly 14,000 homes. The 2020 wildfires in California burned over 4 million acres, making it the largest wildfire season in the state's history.\\n\\nIn the Los Angeles area, wildfires are a frequent occurrence, especially during the dry summer and fall months. The 2018 Woolsey Fire, which burned over 96,000 acres in Ventura and LA counties, was one of the largest wildfires in LA County's history. The 2020 Bobcat Fire, which burned over 115,000 acres in the San Gabriel Mountains, was another significant wildfire event in the LA area.\\n\\n**Wildfire Risk in 2025:**\\n\\nWhile it's impossible to predict with certainty, there are several factors that contribute to the risk of wildfires in California and the LA area:\\n\\n1. **Climate Change:** Rising temperatures and changing precipitation patterns due to climate change are expected to increase the risk of wildfires in California.\\n2. **Drought:** California has experienced several years of drought, which has left vegetation dry and prone to ignition.\\n3. **Urban-Wildland Interface:** The expansion of urban areas into wildland areas increases the risk of wildfires, as human activity can spark fires, and homes and infrastructure can be damaged or destroyed.\\n4. **Fire Season:** California's fire season is becoming longer, with wildfires occurring earlier in the spring and later in the fall.\\n\\n**Preparations and Mitigation Efforts:**\\n\\nTo prepare for potential wildfires in 2025, authorities and residents are taking steps to mitigate the risk:\\n\\n1. **Prescribed Burns:** Conducting controlled burns in fire-prone areas to reduce fuel loads and prevent catastrophic wildfires.\\n2. **Defensible Space:** Creating fire-resistant zones around homes and buildings by clearing vegetation and debris.\\n3. **Emergency Preparedness:** Developing evacuation plans, conducting drills, and educating the public on wildfire safety.\\n4. **Firefighting Resources:** Ensuring adequate firefighting resources, including personnel, equipment, and aircraft, are available to respond quickly and effectively to wildfires.\\n\\nWhile we can't predict the exact outcome of the 2025 wildfire season, it's essential to remain vigilant and take proactive steps to prepare for potential wildfires.\", response_metadata={'token_usage': {'completion_tokens': 565, 'prompt_tokens': 28, 'total_tokens': 593, 'completion_time': 1.614285714, 'prompt_time': 0.007054836, 'queue_time': 0.020653302999999998, 'total_time': 1.62134055}, 'model_name': 'llama3-70b-8192', 'system_fingerprint': 'fp_7ab5f7e105', 'finish_reason': 'stop', 'logprobs': None}, id='run-eee1ea0b-f705-4dc1-a6f4-b26043e7b030-0', usage_metadata={'input_tokens': 28, 'output_tokens': 565, 'total_tokens': 593})"
      ]
     },
     "execution_count": 17,
     "metadata": {},
     "output_type": "execute_result"
    }
   ],
   "source": [
    "response"
   ]
  },
  {
   "cell_type": "markdown",
   "metadata": {},
   "source": [
    "## Tavily Search tool"
   ]
  },
  {
   "cell_type": "code",
   "execution_count": 2,
   "metadata": {},
   "outputs": [],
   "source": [
    "os.environ[\"TAVILY_API_KEY\"] = TAVILY_API_KEY"
   ]
  },
  {
   "cell_type": "code",
   "execution_count": 3,
   "metadata": {},
   "outputs": [
    {
     "data": {
      "text/plain": [
       "[{'url': 'https://recovery.lacounty.gov/2025/01/17/wildfire-update-january-17-2025/',\n",
       "  'content': 'Wildfire Update – January 17, 2025 – LA County Recovers LA COUNTY LA County Resources LA COUNTY NEWS Wildfire Update – January 17, 2025 https://recovery.lacounty.gov/wp-content/uploads/2025/01/JIC-Banner-1024x576.jpg 1024 576 LA County Recovers LA County Recovers //recovery.lacounty.gov/wp-content/uploads/2021/07/la-county-recovers-style-logo.png January 17, 2025 January 17, 2025 Here are the latest updates from LA County’s Coordinated Joint Information Center as of 10:00AM on January 17, 2025. For the latest fire response and recovery photos from LA County, please visit our Flickr page. Previous media releases are posted here:\\xa0News Releases – LA County Recovers Contact:Los Angeles County Emergency Operations CenterCJIC@ceo.lacounty.gov Media Update: Eaton and Palisades Fires 1/18/25 Read Next ###### LA County Recovers: Public Defender Media Update: Eaton and Palisades Fires 1/18/25 LA COUNTY LA County Resources LA COUNTY NEWS'},\n",
       " {'url': 'https://www.cnn.com/weather/live-news/fires-los-angeles-california-01-16-25/index.html',\n",
       "  'content': 'Live updates: Los Angeles wildfires, Palisades and Eaton fires, Auto fire in Ventura | CNN CNN10 About CNN • A window of dangerous fire weather conditions has closed, but firefighters battling the Los Angeles blazes are still contending with “extreme hazards and the potential for fire growth,” a Cal Fire official said. • For ways to help Los Angeles County residents, visit CNN Impact Your World. With conditions improving across Southern California Thursday through the weekend, the National Weather Service in Los Angeles is looking ahead to the potential of another Santa Ana Wind Event that may begin early next week. CNN10 About CNN'},\n",
       " {'url': 'https://www.ca.gov/lafires/',\n",
       "  'content': 'California government websites use .ca.gov Get real-time information Sign-up for alerts and safety tips LA County Wildfire Resources Download resources To watch an accessible video about how to apply, visit FEMA Accessible: Registering for Individual Assistance - YouTube Visit Disaster Recovery Centers for help with federal aid applications, housing and rental support, and access to services. Individual Assistance consists of multiple federal programs to help disaster survivors start to recover. Visit Resources to Help Recent Wildfire Victims (California Department of Insurance) for multi-lingual tips on preparing for an insurance claim. Through this major disaster declaration, California is receiving individual assistance, public assistance, and Small Business Administration assistance. Real-time information and safety tips: Cal OES News | Ready.ca.gov'}]"
      ]
     },
     "execution_count": 3,
     "metadata": {},
     "output_type": "execute_result"
    }
   ],
   "source": [
    "from langchain_community.tools.tavily_search import TavilySearchResults\n",
    "search = TavilySearchResults(max_results=3)\n",
    "search.invoke(\"tell me about 2025 LA wildfire updates\")"
   ]
  }
 ],
 "metadata": {
  "kernelspec": {
   "display_name": "agentdemo",
   "language": "python",
   "name": "python3"
  },
  "language_info": {
   "codemirror_mode": {
    "name": "ipython",
    "version": 3
   },
   "file_extension": ".py",
   "mimetype": "text/x-python",
   "name": "python",
   "nbconvert_exporter": "python",
   "pygments_lexer": "ipython3",
   "version": "3.11.11"
  }
 },
 "nbformat": 4,
 "nbformat_minor": 2
}
