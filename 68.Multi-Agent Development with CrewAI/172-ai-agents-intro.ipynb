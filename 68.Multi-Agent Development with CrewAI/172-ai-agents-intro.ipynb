{
 "cells": [
  {
   "cell_type": "markdown",
   "id": "7e4f02f1-9885-41bf-86e6-4e0d4583e8c9",
   "metadata": {},
   "source": [
    "# AI Agents: Intro"
   ]
  },
  {
   "cell_type": "markdown",
   "id": "223f712a-4d39-40d2-ab64-6d0dfeab5be4",
   "metadata": {},
   "source": [
    "## Traditional LLM Apps use non-agentic workflow\n",
    "* Prompt: \"Write an article about the Kennedy family.\"\n",
    "* This is what we technically call the \"zero-shot\" workflow."
   ]
  },
  {
   "cell_type": "markdown",
   "id": "7511e384-7aa3-4d01-9b35-bc0a70726a3f",
   "metadata": {},
   "source": [
    "## Agentic LLM Apps (AI Agents) use agentic workflow\n",
    "* Prompt:\n",
    "    * If necessary, do online research about the Kennedy family.\n",
    "    * Write a first draft about the Kennedy family.\n",
    "    * Revise the draft and consider what parts need more research.\n",
    "    * Do the necessary additional research.\n",
    "    * Write a second draft.\n",
    "    * Etc, etc.\n",
    "* Agentic workflow is:\n",
    "    * Iterative.\n",
    "    * Cycle: think-research-draft-revise-etc.\n",
    "    * A number of iterations.\n",
    "    * Better results."
   ]
  },
  {
   "cell_type": "markdown",
   "id": "619750f1-4f5f-4454-a4b5-f7161596b512",
   "metadata": {},
   "source": [
    "## Real examples of advanced AI Agents\n",
    "* [Klarna, a customer service agent.](https://www.klarna.com/international/press/klarna-ai-assistant-handles-two-thirds-of-customer-service-chats-in-its-first-month/)\n",
    "* [Devin, an AI software engineer.](https://www.cognition-labs.com/introducing-devin)\n",
    "* [SIMA, a game-playing agent.](https://deepmind.google/discover/blog/sima-generalist-ai-agent-for-3d-virtual-environments/)"
   ]
  },
  {
   "cell_type": "markdown",
   "id": "81df2ed6-0801-4f02-ab86-89ff40185647",
   "metadata": {},
   "source": [
    "## Main ways to use AI Agents today\n",
    "* Reflection.\n",
    "* Tool use.\n",
    "* Planning.\n",
    "* Multi-agent collaboration."
   ]
  },
  {
   "cell_type": "markdown",
   "id": "d57131d2-94a3-42ab-a185-5e04d8c10904",
   "metadata": {},
   "source": [
    "## Reflective Agents\n",
    "* Example of reflection: write a draft, revise it, give constructive criticism for how to improve it, write a better draft, etc.\n",
    "* Variation: one agent creates, another agent critizises his work.\n",
    "\n",
    "These agents are starting to be used in applications, the technology is becoming more and more robust.\n",
    "* Some current Reflective Agents are enforcing a number of Reflection steps at the end of the task to conclude if it is good enough to finish it or not."
   ]
  },
  {
   "cell_type": "markdown",
   "id": "f3f13d1a-e01c-4eae-820d-bbfc9f69de88",
   "metadata": {},
   "source": [
    "## Tool-using Agents \n",
    "Example of tools used:\n",
    "* Research: online search, wikipedia.\n",
    "* Productivity: calendar, email, cloud storage.\n",
    "* Images: generation, captioning, object detection.\n",
    "* Coding.\n",
    "\n",
    "These agents are starting to be used in applications, the technology is becoming more and more robust."
   ]
  },
  {
   "cell_type": "markdown",
   "id": "60ff6b55-67da-43e5-9860-908aabb703ac",
   "metadata": {},
   "source": [
    "## Planning Agents\n",
    "Find out what are the necessary stages to achive a given goal and execute them in the correct order.\n",
    "* Agentic loops.\n",
    "* Example: online research agent.\n",
    "\n",
    "These agents are in emerging stage, the technology is still not very accurate.\n",
    "* Some current Planning Agents are enforcing a number of planning steps to follow to have a higher degree of control over them."
   ]
  },
  {
   "cell_type": "markdown",
   "id": "ec97ce73-ae03-43ad-ae6a-736cea3dbb5c",
   "metadata": {},
   "source": [
    "## Multi-agent collaboration\n",
    "Several agents with different roles collaborating among them.\n",
    "* Example: product manager, software developer, testing engineer, etc.\n",
    "* Example: chatGPT debating with Gemini Pro.\n",
    "\n",
    "These agents are in emerging stage, the technology is still not very accurate."
   ]
  },
  {
   "cell_type": "markdown",
   "id": "4dea9fc6-2a92-46b6-8328-e16478a9cad1",
   "metadata": {},
   "source": [
    "## AI Agents: what is coming\n",
    "* The performance of most of the current non-agentic LLM Apps can be improved including agentic workflows. \n",
    "* We will need to get used to give time for the agent to proceed with its workflow.\n",
    "* The tasks we can do with LLM Apps will expand dramatically with agentic workflows.\n",
    "* We still have to find the right UI for agents.\n",
    "    * Human-in-the-loop is still necessary in most cases, but to much of it will make it unpleasant for the user.\n",
    "    * Some Agent UIs are experimenting with undo and edit commands.\n",
    "* Memory:\n",
    "    * Some Agents can remember your instructions (procedural memory) so next time you ask for something they know how to do it right away.\n",
    "    * Some Agents are starting to use personalized memory so they remember the preferences of each user. \n",
    "* Since agents can use many loops and each loop use tokens, the speed of LLM token generation will affect the speed of the agentic workflows."
   ]
  },
  {
   "cell_type": "code",
   "execution_count": null,
   "id": "a588bb28-f8e0-49dc-bfef-e0913654efb3",
   "metadata": {},
   "outputs": [],
   "source": []
  }
 ],
 "metadata": {
  "kernelspec": {
   "display_name": "Python 3 (ipykernel)",
   "language": "python",
   "name": "python3"
  },
  "language_info": {
   "codemirror_mode": {
    "name": "ipython",
    "version": 3
   },
   "file_extension": ".py",
   "mimetype": "text/x-python",
   "name": "python",
   "nbconvert_exporter": "python",
   "pygments_lexer": "ipython3",
   "version": "3.11.4"
  }
 },
 "nbformat": 4,
 "nbformat_minor": 5
}
