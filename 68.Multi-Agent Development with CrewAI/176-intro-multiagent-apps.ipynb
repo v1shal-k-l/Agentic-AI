{
 "cells": [
  {
   "cell_type": "markdown",
   "id": "4c68b83b-6d26-4999-bb49-f3f83e37139c",
   "metadata": {},
   "source": [
    "# Intro to Multi-Agent LLM Apps"
   ]
  },
  {
   "cell_type": "markdown",
   "id": "fc19e0a7-6fe2-4a46-b3eb-6d17a358f77c",
   "metadata": {},
   "source": [
    "## Multi-agent collaboration\n",
    "Several agents with different roles collaborating among them.\n",
    "* Example: product manager, software developer, testing engineer, etc.\n",
    "* Example: chatGPT debating with Gemini Pro.\n",
    "\n",
    "These agents are in emerging stage, the technology is still not very accurate."
   ]
  },
  {
   "cell_type": "markdown",
   "id": "380ef510-7860-4151-bf8d-d9d5f3c06dd6",
   "metadata": {},
   "source": [
    "## Very promising first results\n",
    "* Initial studies like the one from AutoGen show that multiple agents give superior performance to a single agent."
   ]
  },
  {
   "cell_type": "markdown",
   "id": "251130eb-448b-4037-aa8d-7f8af72e31a2",
   "metadata": {},
   "source": [
    "## Multi-agent frameworks\n",
    "* [AutoGen](https://microsoft.github.io/autogen/docs/Getting-Started/): the pioneer.\n",
    "    * Not very simple to use.\n",
    "* [LangGraph](https://python.langchain.com/docs/langgraph/): developed by the LangChain team.\n",
    "    * Very interesting, considering the already strong LangChain community and ecosystem.\n",
    "* [CrewAI](https://www.crewai.com/): the newest one. Built on top of LangChain with focus on simplicity.\n",
    "    * Very interesing and focused, but still very young and small team."
   ]
  },
  {
   "cell_type": "markdown",
   "id": "7527dea1-e3a4-4a27-8177-aaaa976e827d",
   "metadata": {},
   "source": [
    "## Other interesting related initiatives\n",
    "* [ChatDev](https://github.com/OpenBMB/ChatDev): open source implementation of a set of agents that run a virtual software company.\n",
    "* [Vertex AI Agent Builder from Google](https://cloud.google.com/blog/products/ai-machine-learning/build-generative-ai-experiences-with-vertex-ai-agent-builder): you can build agents and integrate them into multiple applications. Integration available with LangChain and LangGraph.\n",
    "* [Assistants API from OpenAI](https://platform.openai.com/docs/assistants/overview): you can build agents that respond to custom instructions, retrieve documents (limited by file size), call functions, and access a code interpreter."
   ]
  },
  {
   "cell_type": "code",
   "execution_count": null,
   "id": "a5c0b1cd-722d-49ac-936f-d9a44d873eaf",
   "metadata": {},
   "outputs": [],
   "source": []
  }
 ],
 "metadata": {
  "kernelspec": {
   "display_name": "Python 3 (ipykernel)",
   "language": "python",
   "name": "python3"
  },
  "language_info": {
   "codemirror_mode": {
    "name": "ipython",
    "version": 3
   },
   "file_extension": ".py",
   "mimetype": "text/x-python",
   "name": "python",
   "nbconvert_exporter": "python",
   "pygments_lexer": "ipython3",
   "version": "3.11.4"
  }
 },
 "nbformat": 4,
 "nbformat_minor": 5
}
